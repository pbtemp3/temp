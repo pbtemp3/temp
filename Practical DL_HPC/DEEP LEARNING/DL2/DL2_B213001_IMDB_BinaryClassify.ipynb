{
 "cells": [
  {
   "cell_type": "code",
   "execution_count": 1,
   "id": "31abe220",
   "metadata": {
    "id": "31abe220"
   },
   "outputs": [],
   "source": [
    "import numpy as np\n",
    "from tensorflow.keras.datasets import imdb\n",
    "from tensorflow.keras.models import Sequential\n",
    "from tensorflow.keras.layers import Dense, Dropout, Embedding, Flatten\n",
    "from tensorflow.keras.preprocessing.sequence import pad_sequences\n",
    "\n",
    "# Load the IMDB dataset\n",
    "(x_train, y_train), (x_test, y_test) = imdb.load_data(num_words=10000)\n"
   ]
  },
  {
   "cell_type": "code",
   "execution_count": 2,
   "id": "5af8c74d",
   "metadata": {
    "id": "5af8c74d"
   },
   "outputs": [],
   "source": [
    "max_len = 500\n",
    "\n",
    "# Pad and truncate the sequences\n",
    "x_train = pad_sequences(x_train, maxlen=max_len)\n",
    "x_test = pad_sequences(x_test, maxlen=max_len)\n"
   ]
  },
  {
   "cell_type": "code",
   "execution_count": 3,
   "id": "fe908028",
   "metadata": {
    "id": "fe908028"
   },
   "outputs": [],
   "source": [
    "model = Sequential()\n",
    "model.add(Embedding(10000, 32, input_length=max_len))\n",
    "model.add(Flatten())\n",
    "model.add(Dense(128, activation='relu'))\n",
    "model.add(Dropout(0.5))\n",
    "model.add(Dense(1, activation='sigmoid'))\n",
    "\n",
    "model.compile(optimizer='adam', loss='binary_crossentropy', metrics=['accuracy'])\n"
   ]
  },
  {
   "cell_type": "code",
   "execution_count": 4,
   "id": "6448ecad",
   "metadata": {
    "id": "6448ecad",
    "outputId": "bb8e4d39-6bdc-4f99-f23e-a3a06112b366"
   },
   "outputs": [
    {
     "name": "stdout",
     "output_type": "stream",
     "text": [
      "Epoch 1/5\n",
      "157/157 [==============================] - 6s 31ms/step - loss: 0.5320 - accuracy: 0.6978 - val_loss: 0.3234 - val_accuracy: 0.8608\n",
      "Epoch 2/5\n",
      "157/157 [==============================] - 5s 29ms/step - loss: 0.1845 - accuracy: 0.9302 - val_loss: 0.3023 - val_accuracy: 0.8772\n",
      "Epoch 3/5\n",
      "157/157 [==============================] - 5s 30ms/step - loss: 0.0514 - accuracy: 0.9869 - val_loss: 0.3530 - val_accuracy: 0.8742\n",
      "Epoch 4/5\n",
      "157/157 [==============================] - 5s 30ms/step - loss: 0.0118 - accuracy: 0.9991 - val_loss: 0.4124 - val_accuracy: 0.8708\n",
      "Epoch 5/5\n",
      "157/157 [==============================] - 5s 30ms/step - loss: 0.0039 - accuracy: 0.9999 - val_loss: 0.4529 - val_accuracy: 0.8730\n"
     ]
    },
    {
     "data": {
      "text/plain": [
       "<keras.callbacks.History at 0x245ad23bd90>"
      ]
     },
     "execution_count": 4,
     "metadata": {},
     "output_type": "execute_result"
    }
   ],
   "source": [
    "model.fit(x_train, y_train, validation_split=0.2, epochs=5, batch_size=128)\n"
   ]
  },
  {
   "cell_type": "code",
   "execution_count": 5,
   "id": "f403eca8",
   "metadata": {
    "id": "f403eca8",
    "outputId": "3567a832-098c-4ff1-bfb3-06f6efb10469"
   },
   "outputs": [
    {
     "name": "stdout",
     "output_type": "stream",
     "text": [
      "782/782 [==============================] - 3s 4ms/step - loss: 0.4455 - accuracy: 0.8705\n",
      "Test accuracy: 87.05%\n"
     ]
    }
   ],
   "source": [
    "loss, accuracy = model.evaluate(x_test, y_test)\n",
    "print(f'Test accuracy: {accuracy * 100:.2f}%')\n"
   ]
  },
  {
   "cell_type": "code",
   "execution_count": 6,
   "id": "623bb20b",
   "metadata": {
    "id": "623bb20b",
    "outputId": "32ecab47-2f0b-4197-8002-c6251dd5753a"
   },
   "outputs": [
    {
     "name": "stdout",
     "output_type": "stream",
     "text": [
      "Downloading data from https://storage.googleapis.com/tensorflow/tf-keras-datasets/imdb_word_index.json\n",
      "1641221/1641221 [==============================] - 0s 0us/step\n",
      "1/1 [==============================] - 0s 91ms/step\n",
      "Review: This movie was great! I loved the story and the acting was superb.\n",
      "Prediction: positive\n"
     ]
    }
   ],
   "source": [
    "def predict_review(review):\n",
    "    # Convert the review to a sequence of word indices\n",
    "    seq = imdb.get_word_index()\n",
    "    words = review.split()\n",
    "    seq = [seq[w] if w in seq else 0 for w in words]\n",
    "    seq = pad_sequences([seq], maxlen=max_len)\n",
    "    \n",
    "    # Make the prediction\n",
    "    pred = model.predict(seq)[0]\n",
    "    \n",
    "    # Return the prediction\n",
    "    return 'positive' if pred >= 0.5 else 'negative'\n",
    "\n",
    "review = \"This movie was great! I loved the story and the acting was superb.\"\n",
    "prediction = predict_review(review)\n",
    "print(f'Review: {review}')\n",
    "print(f'Prediction: {prediction}')\n"
   ]
  },
  {
   "cell_type": "code",
   "execution_count": 7,
   "id": "22db4ff9",
   "metadata": {
    "id": "22db4ff9",
    "outputId": "6f0cfac5-dcd9-42db-cc80-4ef929b0d31c"
   },
   "outputs": [
    {
     "name": "stdout",
     "output_type": "stream",
     "text": [
      "Model: \"sequential\"\n",
      "_________________________________________________________________\n",
      " Layer (type)                Output Shape              Param #   \n",
      "=================================================================\n",
      " embedding (Embedding)       (None, 500, 32)           320000    \n",
      "                                                                 \n",
      " flatten (Flatten)           (None, 16000)             0         \n",
      "                                                                 \n",
      " dense (Dense)               (None, 128)               2048128   \n",
      "                                                                 \n",
      " dropout (Dropout)           (None, 128)               0         \n",
      "                                                                 \n",
      " dense_1 (Dense)             (None, 1)                 129       \n",
      "                                                                 \n",
      "=================================================================\n",
      "Total params: 2,368,257\n",
      "Trainable params: 2,368,257\n",
      "Non-trainable params: 0\n",
      "_________________________________________________________________\n"
     ]
    }
   ],
   "source": [
    "# Print model summary\n",
    "model.summary()\n"
   ]
  },
  {
   "cell_type": "code",
   "execution_count": 8,
   "id": "768e7d2d",
   "metadata": {
    "id": "768e7d2d",
    "outputId": "452f4e1f-42d5-4472-8b42-76fc254bb292"
   },
   "outputs": [
    {
     "name": "stdout",
     "output_type": "stream",
     "text": [
      "782/782 [==============================] - 3s 3ms/step\n"
     ]
    },
    {
     "data": {
      "image/png": "[encoded data removed]",
      "text/plain": [
       "<Figure size 576x576 with 2 Axes>"
      ]
     },
     "metadata": {
      "needs_background": "light"
     },
     "output_type": "display_data"
    }
   ],
   "source": [
    "from sklearn.metrics import confusion_matrix\n",
    "import matplotlib.pyplot as plt\n",
    "import numpy as np\n",
    "\n",
    "# Get predicted labels\n",
    "y_pred = np.round(model.predict(x_test))\n",
    "\n",
    "# Generate confusion matrix\n",
    "cm = confusion_matrix(y_test, y_pred)\n",
    "\n",
    "# Normalize confusion matrix\n",
    "cm_norm = cm.astype('float') / cm.sum(axis=1)[:, np.newaxis]\n",
    "\n",
    "# Set up plot\n",
    "fig, ax = plt.subplots(figsize=(8, 8))\n",
    "\n",
    "# Plot confusion matrix\n",
    "im = ax.imshow(cm_norm, interpolation='nearest', cmap=plt.cm.Blues)\n",
    "ax.figure.colorbar(im, ax=ax)\n",
    "\n",
    "# Set labels\n",
    "ax.set(xticks=np.arange(cm.shape[1]),\n",
    "       yticks=np.arange(cm.shape[0]),\n",
    "       xticklabels=['Negative', 'Positive'], yticklabels=['Negative', 'Positive'],\n",
    "       title='Confusion Matrix',\n",
    "       ylabel='True Label',\n",
    "       xlabel='Predicted Label')\n",
    "\n",
    "# Add labels to each cell\n",
    "thresh = cm_norm.max() / 2.\n",
    "for i in range(cm_norm.shape[0]):\n",
    "    for j in range(cm_norm.shape[1]):\n",
    "        ax.text(j, i, format(cm[i, j], 'd') + '\\n' + format(cm_norm[i, j], '.2f'),\n",
    "                ha=\"center\", va=\"center\",\n",
    "                color=\"white\" if cm_norm[i, j] > thresh else \"black\")\n",
    "\n",
    "# Show plot\n",
    "plt.show()\n"
   ]
  },
  {
   "cell_type": "code",
   "execution_count": 9,
   "id": "4f9ebf03",
   "metadata": {
    "id": "4f9ebf03",
    "outputId": "9bd7ee1b-764a-44a2-c364-838775db6c24"
   },
   "outputs": [
    {
     "name": "stdout",
     "output_type": "stream",
     "text": [
      "              precision    recall  f1-score   support\n",
      "\n",
      "    Negative       0.87      0.87      0.87     12500\n",
      "    Positive       0.87      0.87      0.87     12500\n",
      "\n",
      "    accuracy                           0.87     25000\n",
      "   macro avg       0.87      0.87      0.87     25000\n",
      "weighted avg       0.87      0.87      0.87     25000\n",
      "\n"
     ]
    }
   ],
   "source": [
    "\n",
    "from sklearn.metrics import classification_report\n",
    "\n",
    "print(classification_report(y_test, y_pred, target_names=['Negative', 'Positive']))"
   ]
  },
  {
   "cell_type": "code",
   "execution_count": null,
   "id": "9a7c2a08",
   "metadata": {},
   "outputs": [],
   "source": []
  }
 ],
 "metadata": {
  "colab": {
   "provenance": []
  },
  "kernelspec": {
   "display_name": "Python 3 (ipykernel)",
   "language": "python",
   "name": "python3"
  },
  "language_info": {
   "codemirror_mode": {
    "name": "ipython",
    "version": 3
   },
   "file_extension": ".py",
   "mimetype": "text/x-python",
   "name": "python",
   "nbconvert_exporter": "python",
   "pygments_lexer": "ipython3",
   "version": "3.9.12"
  }
 },
 "nbformat": 4,
 "nbformat_minor": 5
}
