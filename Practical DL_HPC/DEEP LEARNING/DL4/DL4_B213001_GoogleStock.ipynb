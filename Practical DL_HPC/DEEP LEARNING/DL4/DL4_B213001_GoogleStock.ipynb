{
 "cells": [
  {
   "cell_type": "code",
   "execution_count": 1,
   "metadata": {
    "_cell_guid": "b1076dfc-b9ad-4769-8c92-a6c4dae69d19",
    "_uuid": "8f2839f25d086af736a60e9eeb907d3b93b6e0e5",
    "execution": {
     "iopub.execute_input": "2023-04-16T15:49:48.080896Z",
     "iopub.status.busy": "2023-04-16T15:49:48.080597Z",
     "iopub.status.idle": "2023-04-16T15:49:48.112687Z",
     "shell.execute_reply": "2023-04-16T15:49:48.111857Z",
     "shell.execute_reply.started": "2023-04-16T15:49:48.080847Z"
    },
    "id": "bFpVTu8J1IJ3",
    "outputId": "40c0a801-605d-4b57-ebef-145fa66b4310"
   },
   "outputs": [],
   "source": [
    "\n",
    "import numpy as np # linear algebra\n",
    "import pandas as pd # data processing, CSV file I/O (e.g. pd.read_csv)\n",
    "import matplotlib.pyplot as plt\n"
   ]
  },
  {
   "cell_type": "code",
   "execution_count": 2,
   "metadata": {
    "_cell_guid": "79c7e3d0-c299-4dcb-8224-4455121ee9b0",
    "_uuid": "d629ff2d2480ee46fbb7e2d37f6b5fab8052498a",
    "execution": {
     "iopub.execute_input": "2023-04-16T15:49:48.114319Z",
     "iopub.status.busy": "2023-04-16T15:49:48.114015Z",
     "iopub.status.idle": "2023-04-16T15:49:48.155254Z",
     "shell.execute_reply": "2023-04-16T15:49:48.154298Z",
     "shell.execute_reply.started": "2023-04-16T15:49:48.114238Z"
    },
    "id": "4DOOPhRn1IJ6"
   },
   "outputs": [],
   "source": [
    "dataset_train = pd.read_csv(\"trainset.csv\")"
   ]
  },
  {
   "cell_type": "code",
   "execution_count": 3,
   "metadata": {
    "_uuid": "9de88d689da1a279477470f6cef999c0a45bf98a",
    "execution": {
     "iopub.execute_input": "2023-04-16T15:49:48.156941Z",
     "iopub.status.busy": "2023-04-16T15:49:48.156662Z",
     "iopub.status.idle": "2023-04-16T15:49:48.219250Z",
     "shell.execute_reply": "2023-04-16T15:49:48.218422Z",
     "shell.execute_reply.started": "2023-04-16T15:49:48.156887Z"
    },
    "id": "wBU5uwrj1IJ8",
    "outputId": "f2ca7e42-346f-4762-c043-897449b4a111"
   },
   "outputs": [
    {
     "data": {
      "text/html": [
       "<div>\n",
       "<style scoped>\n",
       "    .dataframe tbody tr th:only-of-type {\n",
       "        vertical-align: middle;\n",
       "    }\n",
       "\n",
       "    .dataframe tbody tr th {\n",
       "        vertical-align: top;\n",
       "    }\n",
       "\n",
       "    .dataframe thead th {\n",
       "        text-align: right;\n",
       "    }\n",
       "</style>\n",
       "<table border=\"1\" class=\"dataframe\">\n",
       "  <thead>\n",
       "    <tr style=\"text-align: right;\">\n",
       "      <th></th>\n",
       "      <th>Date</th>\n",
       "      <th>Open</th>\n",
       "      <th>High</th>\n",
       "      <th>Low</th>\n",
       "      <th>Close</th>\n",
       "      <th>Adj Close</th>\n",
       "      <th>Volume</th>\n",
       "    </tr>\n",
       "  </thead>\n",
       "  <tbody>\n",
       "    <tr>\n",
       "      <th>0</th>\n",
       "      <td>2013-01-02</td>\n",
       "      <td>357.385559</td>\n",
       "      <td>361.151062</td>\n",
       "      <td>355.959839</td>\n",
       "      <td>359.288177</td>\n",
       "      <td>359.288177</td>\n",
       "      <td>5115500</td>\n",
       "    </tr>\n",
       "    <tr>\n",
       "      <th>1</th>\n",
       "      <td>2013-01-03</td>\n",
       "      <td>360.122742</td>\n",
       "      <td>363.600128</td>\n",
       "      <td>358.031342</td>\n",
       "      <td>359.496826</td>\n",
       "      <td>359.496826</td>\n",
       "      <td>4666500</td>\n",
       "    </tr>\n",
       "    <tr>\n",
       "      <th>2</th>\n",
       "      <td>2013-01-04</td>\n",
       "      <td>362.313507</td>\n",
       "      <td>368.339294</td>\n",
       "      <td>361.488861</td>\n",
       "      <td>366.600616</td>\n",
       "      <td>366.600616</td>\n",
       "      <td>5562800</td>\n",
       "    </tr>\n",
       "    <tr>\n",
       "      <th>3</th>\n",
       "      <td>2013-01-07</td>\n",
       "      <td>365.348755</td>\n",
       "      <td>367.301056</td>\n",
       "      <td>362.929504</td>\n",
       "      <td>365.001007</td>\n",
       "      <td>365.001007</td>\n",
       "      <td>3332900</td>\n",
       "    </tr>\n",
       "    <tr>\n",
       "      <th>4</th>\n",
       "      <td>2013-01-08</td>\n",
       "      <td>365.393463</td>\n",
       "      <td>365.771027</td>\n",
       "      <td>359.874359</td>\n",
       "      <td>364.280701</td>\n",
       "      <td>364.280701</td>\n",
       "      <td>3373900</td>\n",
       "    </tr>\n",
       "    <tr>\n",
       "      <th>...</th>\n",
       "      <td>...</td>\n",
       "      <td>...</td>\n",
       "      <td>...</td>\n",
       "      <td>...</td>\n",
       "      <td>...</td>\n",
       "      <td>...</td>\n",
       "      <td>...</td>\n",
       "    </tr>\n",
       "    <tr>\n",
       "      <th>1254</th>\n",
       "      <td>2017-12-22</td>\n",
       "      <td>1061.109985</td>\n",
       "      <td>1064.199951</td>\n",
       "      <td>1059.439941</td>\n",
       "      <td>1060.119995</td>\n",
       "      <td>1060.119995</td>\n",
       "      <td>755100</td>\n",
       "    </tr>\n",
       "    <tr>\n",
       "      <th>1255</th>\n",
       "      <td>2017-12-26</td>\n",
       "      <td>1058.069946</td>\n",
       "      <td>1060.119995</td>\n",
       "      <td>1050.199951</td>\n",
       "      <td>1056.739990</td>\n",
       "      <td>1056.739990</td>\n",
       "      <td>760600</td>\n",
       "    </tr>\n",
       "    <tr>\n",
       "      <th>1256</th>\n",
       "      <td>2017-12-27</td>\n",
       "      <td>1057.390015</td>\n",
       "      <td>1058.369995</td>\n",
       "      <td>1048.050049</td>\n",
       "      <td>1049.369995</td>\n",
       "      <td>1049.369995</td>\n",
       "      <td>1271900</td>\n",
       "    </tr>\n",
       "    <tr>\n",
       "      <th>1257</th>\n",
       "      <td>2017-12-28</td>\n",
       "      <td>1051.599976</td>\n",
       "      <td>1054.750000</td>\n",
       "      <td>1044.770020</td>\n",
       "      <td>1048.140015</td>\n",
       "      <td>1048.140015</td>\n",
       "      <td>837100</td>\n",
       "    </tr>\n",
       "    <tr>\n",
       "      <th>1258</th>\n",
       "      <td>2017-12-29</td>\n",
       "      <td>1046.719971</td>\n",
       "      <td>1049.699951</td>\n",
       "      <td>1044.900024</td>\n",
       "      <td>1046.400024</td>\n",
       "      <td>1046.400024</td>\n",
       "      <td>887500</td>\n",
       "    </tr>\n",
       "  </tbody>\n",
       "</table>\n",
       "<p>1259 rows × 7 columns</p>\n",
       "</div>"
      ],
      "text/plain": [
       "            Date         Open         High          Low        Close  \\\n",
       "0     2013-01-02   357.385559   361.151062   355.959839   359.288177   \n",
       "1     2013-01-03   360.122742   363.600128   358.031342   359.496826   \n",
       "2     2013-01-04   362.313507   368.339294   361.488861   366.600616   \n",
       "3     2013-01-07   365.348755   367.301056   362.929504   365.001007   \n",
       "4     2013-01-08   365.393463   365.771027   359.874359   364.280701   \n",
       "...          ...          ...          ...          ...          ...   \n",
       "1254  2017-12-22  1061.109985  1064.199951  1059.439941  1060.119995   \n",
       "1255  2017-12-26  1058.069946  1060.119995  1050.199951  1056.739990   \n",
       "1256  2017-12-27  1057.390015  1058.369995  1048.050049  1049.369995   \n",
       "1257  2017-12-28  1051.599976  1054.750000  1044.770020  1048.140015   \n",
       "1258  2017-12-29  1046.719971  1049.699951  1044.900024  1046.400024   \n",
       "\n",
       "        Adj Close   Volume  \n",
       "0      359.288177  5115500  \n",
       "1      359.496826  4666500  \n",
       "2      366.600616  5562800  \n",
       "3      365.001007  3332900  \n",
       "4      364.280701  3373900  \n",
       "...           ...      ...  \n",
       "1254  1060.119995   755100  \n",
       "1255  1056.739990   760600  \n",
       "1256  1049.369995  1271900  \n",
       "1257  1048.140015   837100  \n",
       "1258  1046.400024   887500  \n",
       "\n",
       "[1259 rows x 7 columns]"
      ]
     },
     "execution_count": 3,
     "metadata": {},
     "output_type": "execute_result"
    }
   ],
   "source": [
    "dataset_train"
   ]
  },
  {
   "cell_type": "code",
   "execution_count": 4,
   "metadata": {
    "_uuid": "99cca4c05240bd82c4492c6c3c200925c5c096e5",
    "execution": {
     "iopub.execute_input": "2023-04-16T15:49:48.221146Z",
     "iopub.status.busy": "2023-04-16T15:49:48.220845Z",
     "iopub.status.idle": "2023-04-16T15:49:48.227033Z",
     "shell.execute_reply": "2023-04-16T15:49:48.226197Z",
     "shell.execute_reply.started": "2023-04-16T15:49:48.221088Z"
    },
    "id": "LK85ti721IJ8"
   },
   "outputs": [],
   "source": [
    "trainset = dataset_train.iloc[:,1:2].values"
   ]
  },
  {
   "cell_type": "code",
   "execution_count": 5,
   "metadata": {
    "_uuid": "1f00141023a0cc15593c8ef1351883177ca3ba21",
    "execution": {
     "iopub.execute_input": "2023-04-16T15:49:48.228527Z",
     "iopub.status.busy": "2023-04-16T15:49:48.228248Z",
     "iopub.status.idle": "2023-04-16T15:49:48.248658Z",
     "shell.execute_reply": "2023-04-16T15:49:48.247550Z",
     "shell.execute_reply.started": "2023-04-16T15:49:48.228479Z"
    },
    "id": "S7iVUUFX1IJ9",
    "outputId": "93cb197f-4139-4324-c1a8-8f65f178cfd9"
   },
   "outputs": [
    {
     "data": {
      "text/plain": [
       "array([[ 357.385559],\n",
       "       [ 360.122742],\n",
       "       [ 362.313507],\n",
       "       ...,\n",
       "       [1057.390015],\n",
       "       [1051.599976],\n",
       "       [1046.719971]])"
      ]
     },
     "execution_count": 5,
     "metadata": {},
     "output_type": "execute_result"
    }
   ],
   "source": [
    "trainset"
   ]
  },
  {
   "cell_type": "code",
   "execution_count": 6,
   "metadata": {
    "_uuid": "1abc6fe47fb5c4443767a2e2053cf9999c8a9a5c",
    "execution": {
     "iopub.execute_input": "2023-04-16T15:49:48.250345Z",
     "iopub.status.busy": "2023-04-16T15:49:48.249939Z",
     "iopub.status.idle": "2023-04-16T15:49:49.073833Z",
     "shell.execute_reply": "2023-04-16T15:49:49.072974Z",
     "shell.execute_reply.started": "2023-04-16T15:49:48.250181Z"
    },
    "id": "kcHMqaxz1IJ-"
   },
   "outputs": [],
   "source": [
    "from sklearn.preprocessing import MinMaxScaler\n",
    "sc = MinMaxScaler(feature_range = (0,1))\n",
    "training_scaled = sc.fit_transform(trainset)"
   ]
  },
  {
   "cell_type": "code",
   "execution_count": 7,
   "metadata": {
    "_uuid": "15362ed79df83c13fbddff1889a71f21e968fbc2",
    "execution": {
     "iopub.execute_input": "2023-04-16T15:49:49.075348Z",
     "iopub.status.busy": "2023-04-16T15:49:49.075092Z",
     "iopub.status.idle": "2023-04-16T15:49:49.082002Z",
     "shell.execute_reply": "2023-04-16T15:49:49.080633Z",
     "shell.execute_reply.started": "2023-04-16T15:49:49.075303Z"
    },
    "id": "cILSRTyN1IJ-",
    "outputId": "6b5dbc34-5d86-400d-f16a-b490fb80e812"
   },
   "outputs": [
    {
     "data": {
      "text/plain": [
       "array([[0.01011148],\n",
       "       [0.01388614],\n",
       "       [0.01690727],\n",
       "       ...,\n",
       "       [0.97543954],\n",
       "       [0.9674549 ],\n",
       "       [0.96072522]])"
      ]
     },
     "execution_count": 7,
     "metadata": {},
     "output_type": "execute_result"
    }
   ],
   "source": [
    "training_scaled"
   ]
  },
  {
   "cell_type": "code",
   "execution_count": 8,
   "metadata": {
    "_uuid": "d0d549e9a4af9ab516c3304fb44d650a815dcedc",
    "execution": {
     "iopub.execute_input": "2023-04-16T15:49:49.084059Z",
     "iopub.status.busy": "2023-04-16T15:49:49.083683Z",
     "iopub.status.idle": "2023-04-16T15:49:49.093928Z",
     "shell.execute_reply": "2023-04-16T15:49:49.092913Z",
     "shell.execute_reply.started": "2023-04-16T15:49:49.083995Z"
    },
    "id": "kM7myGwf1IJ-"
   },
   "outputs": [],
   "source": [
    "x_train = []\n",
    "y_train = []"
   ]
  },
  {
   "cell_type": "code",
   "execution_count": 9,
   "metadata": {
    "_uuid": "4c4f8ba0c635e7da0ba1bc52abf0a42068acdc89",
    "execution": {
     "iopub.execute_input": "2023-04-16T15:49:49.095613Z",
     "iopub.status.busy": "2023-04-16T15:49:49.095373Z",
     "iopub.status.idle": "2023-04-16T15:49:49.112533Z",
     "shell.execute_reply": "2023-04-16T15:49:49.111727Z",
     "shell.execute_reply.started": "2023-04-16T15:49:49.095569Z"
    },
    "id": "fExE-q6I1IKA"
   },
   "outputs": [],
   "source": [
    "for i in range(60,1259):\n",
    "    x_train.append(training_scaled[i-60:i, 0])\n",
    "    y_train.append(training_scaled[i,0])\n",
    "x_train,y_train = np.array(x_train),np.array(y_train)"
   ]
  },
  {
   "cell_type": "code",
   "execution_count": 10,
   "metadata": {
    "_uuid": "360eb79902c77fbba3f16ab47a5ff7593a177478",
    "execution": {
     "iopub.execute_input": "2023-04-16T15:49:49.114070Z",
     "iopub.status.busy": "2023-04-16T15:49:49.113836Z",
     "iopub.status.idle": "2023-04-16T15:49:49.128707Z",
     "shell.execute_reply": "2023-04-16T15:49:49.127743Z",
     "shell.execute_reply.started": "2023-04-16T15:49:49.114033Z"
    },
    "id": "zAyAURIp1IKA",
    "outputId": "ca1c0ec4-8cca-4e97-ee72-84c46e738dcb"
   },
   "outputs": [
    {
     "data": {
      "text/plain": [
       "(1199, 60)"
      ]
     },
     "execution_count": 10,
     "metadata": {},
     "output_type": "execute_result"
    }
   ],
   "source": [
    "x_train.shape"
   ]
  },
  {
   "cell_type": "code",
   "execution_count": 11,
   "metadata": {
    "_uuid": "316c5775b5c0a984b432f138792d2c0e9a484491",
    "execution": {
     "iopub.execute_input": "2023-04-16T15:49:49.130080Z",
     "iopub.status.busy": "2023-04-16T15:49:49.129745Z",
     "iopub.status.idle": "2023-04-16T15:49:49.142786Z",
     "shell.execute_reply": "2023-04-16T15:49:49.141990Z",
     "shell.execute_reply.started": "2023-04-16T15:49:49.130028Z"
    },
    "id": "M9FrP17Y1IKB"
   },
   "outputs": [],
   "source": [
    "x_train = np.reshape(x_train, (x_train.shape[0],x_train.shape[1],1))"
   ]
  },
  {
   "cell_type": "code",
   "execution_count": 12,
   "metadata": {
    "_uuid": "28f5242c6f1961914d1f568e70228fd30c1cb7fa",
    "execution": {
     "iopub.execute_input": "2023-04-16T15:49:49.143874Z",
     "iopub.status.busy": "2023-04-16T15:49:49.143650Z",
     "iopub.status.idle": "2023-04-16T15:49:49.284103Z",
     "shell.execute_reply": "2023-04-16T15:49:49.283269Z",
     "shell.execute_reply.started": "2023-04-16T15:49:49.143826Z"
    },
    "id": "5OdhkT421IKC",
    "outputId": "4f49fdb9-f376-4b3a-86c5-4b19a2710435"
   },
   "outputs": [],
   "source": [
    "from keras.models import Sequential\n",
    "from keras.layers import Dense\n",
    "from keras.layers import LSTM\n",
    "from keras.layers import Dropout"
   ]
  },
  {
   "cell_type": "code",
   "execution_count": 13,
   "metadata": {
    "_uuid": "ed24d733423254641f134c0e84f44a8ce175589f",
    "execution": {
     "iopub.execute_input": "2023-04-16T15:49:49.285893Z",
     "iopub.status.busy": "2023-04-16T15:49:49.285589Z",
     "iopub.status.idle": "2023-04-16T15:49:49.619921Z",
     "shell.execute_reply": "2023-04-16T15:49:49.619152Z",
     "shell.execute_reply.started": "2023-04-16T15:49:49.285833Z"
    },
    "id": "Jwvy8p9M1IKC"
   },
   "outputs": [],
   "source": [
    "regressor = Sequential()\n",
    "regressor.add(LSTM(units = 50,return_sequences = True,input_shape = (x_train.shape[1],1)))"
   ]
  },
  {
   "cell_type": "code",
   "execution_count": 14,
   "metadata": {
    "_uuid": "e7b3dd133e58cb2acc860a8cfcd1483ba70e6b1b",
    "execution": {
     "iopub.execute_input": "2023-04-16T15:49:49.621331Z",
     "iopub.status.busy": "2023-04-16T15:49:49.621081Z",
     "iopub.status.idle": "2023-04-16T15:49:49.644680Z",
     "shell.execute_reply": "2023-04-16T15:49:49.643857Z",
     "shell.execute_reply.started": "2023-04-16T15:49:49.621273Z"
    },
    "id": "MU4Tmq1L1IKD"
   },
   "outputs": [],
   "source": [
    "regressor.add(Dropout(0.2))"
   ]
  },
  {
   "cell_type": "code",
   "execution_count": 15,
   "metadata": {
    "_uuid": "6b746176cb04357ac1e4c3e4c91ecd70717fed47",
    "execution": {
     "iopub.execute_input": "2023-04-16T15:49:49.646254Z",
     "iopub.status.busy": "2023-04-16T15:49:49.646017Z",
     "iopub.status.idle": "2023-04-16T15:49:49.936494Z",
     "shell.execute_reply": "2023-04-16T15:49:49.935442Z",
     "shell.execute_reply.started": "2023-04-16T15:49:49.646210Z"
    },
    "id": "cRrP6yKw1IKD"
   },
   "outputs": [],
   "source": [
    "regressor.add(LSTM(units = 50,return_sequences = True))\n",
    "regressor.add(Dropout(0.2))"
   ]
  },
  {
   "cell_type": "code",
   "execution_count": 16,
   "metadata": {
    "_uuid": "73fe0b95d62b599e8aae4e2a53a10bc7165f464c",
    "execution": {
     "iopub.execute_input": "2023-04-16T15:49:49.938033Z",
     "iopub.status.busy": "2023-04-16T15:49:49.937772Z",
     "iopub.status.idle": "2023-04-16T15:49:50.238273Z",
     "shell.execute_reply": "2023-04-16T15:49:50.237271Z",
     "shell.execute_reply.started": "2023-04-16T15:49:49.937994Z"
    },
    "id": "4Q5dnZJA1IKD"
   },
   "outputs": [],
   "source": [
    "regressor.add(LSTM(units = 50,return_sequences = True))\n",
    "regressor.add(Dropout(0.2))"
   ]
  },
  {
   "cell_type": "code",
   "execution_count": 17,
   "metadata": {
    "_uuid": "8c81a80d2ea3cdf653675def0bbba5f9572e8770",
    "execution": {
     "iopub.execute_input": "2023-04-16T15:49:50.240315Z",
     "iopub.status.busy": "2023-04-16T15:49:50.239903Z",
     "iopub.status.idle": "2023-04-16T15:49:50.538934Z",
     "shell.execute_reply": "2023-04-16T15:49:50.538056Z",
     "shell.execute_reply.started": "2023-04-16T15:49:50.240228Z"
    },
    "id": "Adc1uuZA1IKD"
   },
   "outputs": [],
   "source": [
    "regressor.add(LSTM(units = 50))\n",
    "regressor.add(Dropout(0.2))"
   ]
  },
  {
   "cell_type": "code",
   "execution_count": 18,
   "metadata": {
    "_uuid": "2edc2684995e0033ae8a4997b61b92a66c5bceee",
    "execution": {
     "iopub.execute_input": "2023-04-16T15:49:50.540627Z",
     "iopub.status.busy": "2023-04-16T15:49:50.540227Z",
     "iopub.status.idle": "2023-04-16T15:49:50.565831Z",
     "shell.execute_reply": "2023-04-16T15:49:50.564761Z",
     "shell.execute_reply.started": "2023-04-16T15:49:50.540555Z"
    },
    "id": "ksQeEnkr1IKE"
   },
   "outputs": [],
   "source": [
    "regressor.add(Dense(units = 1))"
   ]
  },
  {
   "cell_type": "code",
   "execution_count": 19,
   "metadata": {
    "_uuid": "6681ff55d9a29b1ad0f37cdc82318fb2c8fbc0bd",
    "execution": {
     "iopub.execute_input": "2023-04-16T15:49:50.567880Z",
     "iopub.status.busy": "2023-04-16T15:49:50.567541Z",
     "iopub.status.idle": "2023-04-16T15:49:50.608044Z",
     "shell.execute_reply": "2023-04-16T15:49:50.607296Z",
     "shell.execute_reply.started": "2023-04-16T15:49:50.567809Z"
    },
    "id": "qh8beObo1IKE"
   },
   "outputs": [],
   "source": [
    "regressor.compile(optimizer = 'adam',loss = 'mean_squared_error')"
   ]
  },
  {
   "cell_type": "code",
   "execution_count": 49,
   "metadata": {
    "_uuid": "b0287226b32109016b659a8ba484b5eb51e0d61a",
    "execution": {
     "iopub.execute_input": "2023-04-16T15:49:50.610165Z",
     "iopub.status.busy": "2023-04-16T15:49:50.609798Z",
     "iopub.status.idle": "2023-04-16T16:04:57.726028Z",
     "shell.execute_reply": "2023-04-16T16:04:57.725271Z",
     "shell.execute_reply.started": "2023-04-16T15:49:50.610085Z"
    },
    "id": "Ocablh5f1IKF",
    "outputId": "404a980d-6dc6-41c3-b036-65c40bada917"
   },
   "outputs": [
    {
     "name": "stdout",
     "output_type": "stream",
     "text": [
      "Epoch 1/20\n",
      "38/38 [==============================] - 3s 74ms/step - loss: 0.0027\n",
      "Epoch 2/20\n",
      "38/38 [==============================] - 3s 74ms/step - loss: 0.0024\n",
      "Epoch 3/20\n",
      "38/38 [==============================] - 3s 74ms/step - loss: 0.0023\n",
      "Epoch 4/20\n",
      "38/38 [==============================] - 3s 74ms/step - loss: 0.0022\n",
      "Epoch 5/20\n",
      "38/38 [==============================] - 3s 85ms/step - loss: 0.0026\n",
      "Epoch 6/20\n",
      "38/38 [==============================] - 3s 77ms/step - loss: 0.0022\n",
      "Epoch 7/20\n",
      "38/38 [==============================] - 3s 79ms/step - loss: 0.0023\n",
      "Epoch 8/20\n",
      "38/38 [==============================] - 3s 79ms/step - loss: 0.0021\n",
      "Epoch 9/20\n",
      "38/38 [==============================] - 3s 85ms/step - loss: 0.0024\n",
      "Epoch 10/20\n",
      "38/38 [==============================] - 4s 100ms/step - loss: 0.0023\n",
      "Epoch 11/20\n",
      "38/38 [==============================] - 3s 85ms/step - loss: 0.0021\n",
      "Epoch 12/20\n",
      "38/38 [==============================] - 3s 73ms/step - loss: 0.0019\n",
      "Epoch 13/20\n",
      "38/38 [==============================] - 3s 74ms/step - loss: 0.0021\n",
      "Epoch 14/20\n",
      "38/38 [==============================] - 3s 74ms/step - loss: 0.0020\n",
      "Epoch 15/20\n",
      "38/38 [==============================] - 3s 73ms/step - loss: 0.0022\n",
      "Epoch 16/20\n",
      "38/38 [==============================] - 3s 78ms/step - loss: 0.0020\n",
      "Epoch 17/20\n",
      "38/38 [==============================] - 3s 73ms/step - loss: 0.0020\n",
      "Epoch 18/20\n",
      "38/38 [==============================] - 3s 75ms/step - loss: 0.0020\n",
      "Epoch 19/20\n",
      "38/38 [==============================] - 3s 74ms/step - loss: 0.0019\n",
      "Epoch 20/20\n",
      "38/38 [==============================] - 3s 74ms/step - loss: 0.0025\n"
     ]
    },
    {
     "data": {
      "text/plain": [
       "<keras.callbacks.History at 0x234c40a3fd0>"
      ]
     },
     "execution_count": 49,
     "metadata": {},
     "output_type": "execute_result"
    }
   ],
   "source": [
    "regressor.fit(x_train,y_train,epochs = 20, batch_size = 32)"
   ]
  },
  {
   "cell_type": "code",
   "execution_count": 36,
   "metadata": {
    "_uuid": "16e063f81273faee696d9db103673ad2b88fda50",
    "execution": {
     "iopub.execute_input": "2023-04-16T16:04:57.729687Z",
     "iopub.status.busy": "2023-04-16T16:04:57.729440Z",
     "iopub.status.idle": "2023-04-16T16:04:57.744674Z",
     "shell.execute_reply": "2023-04-16T16:04:57.743901Z",
     "shell.execute_reply.started": "2023-04-16T16:04:57.729648Z"
    },
    "id": "WNDRMgd11IKF"
   },
   "outputs": [],
   "source": [
    "dataset_test =pd.read_csv(\"testset.csv\")"
   ]
  },
  {
   "cell_type": "code",
   "execution_count": 37,
   "metadata": {
    "_uuid": "6acd6a66dc0f9c013ea008c0d99734697757cae6",
    "execution": {
     "iopub.execute_input": "2023-04-16T16:04:57.746256Z",
     "iopub.status.busy": "2023-04-16T16:04:57.745787Z",
     "iopub.status.idle": "2023-04-16T16:04:57.755975Z",
     "shell.execute_reply": "2023-04-16T16:04:57.754830Z",
     "shell.execute_reply.started": "2023-04-16T16:04:57.746207Z"
    },
    "id": "5vA_Ob9q1IKF"
   },
   "outputs": [],
   "source": [
    "real_stock_price = dataset_test.iloc[:,1:2].values"
   ]
  },
  {
   "cell_type": "code",
   "execution_count": 38,
   "metadata": {
    "_uuid": "b65a0a5b78f98a5ac13dee98e9738fd61426bfd0",
    "execution": {
     "iopub.execute_input": "2023-04-16T16:04:57.757513Z",
     "iopub.status.busy": "2023-04-16T16:04:57.757163Z",
     "iopub.status.idle": "2023-04-16T16:04:57.781725Z",
     "shell.execute_reply": "2023-04-16T16:04:57.780471Z",
     "shell.execute_reply.started": "2023-04-16T16:04:57.757447Z"
    },
    "id": "ky_gKEWb1IKF",
    "outputId": "d77c514b-33df-456e-d3f1-e425a47df94e"
   },
   "outputs": [
    {
     "data": {
      "text/plain": [
       "0       357.385559\n",
       "1       360.122742\n",
       "2       362.313507\n",
       "3       365.348755\n",
       "4       365.393463\n",
       "          ...     \n",
       "120    1143.599976\n",
       "121    1128.000000\n",
       "122    1121.339966\n",
       "123    1102.089966\n",
       "124    1120.000000\n",
       "Name: Open, Length: 1384, dtype: float64"
      ]
     },
     "execution_count": 38,
     "metadata": {},
     "output_type": "execute_result"
    }
   ],
   "source": [
    "dataset_total = pd.concat((dataset_train['Open'],dataset_test['Open']),axis = 0)\n",
    "dataset_total"
   ]
  },
  {
   "cell_type": "code",
   "execution_count": 39,
   "metadata": {
    "_uuid": "31aa33ed70b08e71d0e8bfe4c1abae7901ab947d",
    "execution": {
     "iopub.execute_input": "2023-04-16T16:04:57.784181Z",
     "iopub.status.busy": "2023-04-16T16:04:57.783448Z",
     "iopub.status.idle": "2023-04-16T16:04:57.794852Z",
     "shell.execute_reply": "2023-04-16T16:04:57.793790Z",
     "shell.execute_reply.started": "2023-04-16T16:04:57.784113Z"
    },
    "id": "6ooO0_bw1IKG",
    "outputId": "1b588115-d540-4728-f89e-025747f8fc22"
   },
   "outputs": [
    {
     "data": {
      "text/plain": [
       "array([ 955.48999 ,  966.700012,  980.      ,  980.      ,  973.719971,\n",
       "        987.450012,  992.      ,  992.099976,  990.289978,  991.77002 ,\n",
       "        986.      ,  989.440002,  989.52002 ,  970.      ,  968.369995,\n",
       "        980.      , 1009.190002, 1014.      , 1015.219971, 1017.210022,\n",
       "       1021.76001 , 1022.109985, 1028.98999 , 1027.27002 , 1030.52002 ,\n",
       "       1033.98999 , 1026.459961, 1023.419983, 1022.590027, 1019.210022,\n",
       "       1022.52002 , 1034.01001 , 1020.26001 , 1023.309998, 1035.      ,\n",
       "       1035.869995, 1040.      , 1055.089966, 1042.680054, 1022.369995,\n",
       "       1015.799988, 1012.659973,  995.940002, 1001.5     , 1020.429993,\n",
       "       1037.48999 , 1035.5     , 1039.630005, 1046.119995, 1045.      ,\n",
       "       1054.609985, 1066.079956, 1075.199951, 1071.780029, 1064.949951,\n",
       "       1061.109985, 1058.069946, 1057.390015, 1051.599976, 1046.719971,\n",
       "       1048.339966, 1064.310059, 1088.      , 1094.      , 1102.22998 ,\n",
       "       1109.400024, 1097.099976, 1106.300049, 1102.410034, 1132.51001 ,\n",
       "       1126.219971, 1131.410034, 1131.829956, 1137.48999 , 1159.849976,\n",
       "       1177.329956, 1172.530029, 1175.079956, 1176.47998 , 1167.829956,\n",
       "       1170.569946, 1162.609985, 1122.      , 1090.599976, 1027.180054,\n",
       "       1081.540039, 1055.410034, 1017.25    , 1048.      , 1045.      ,\n",
       "       1048.949951, 1079.069946, 1088.410034, 1090.569946, 1106.469971,\n",
       "       1116.189941, 1112.640015, 1127.800049, 1141.23999 , 1123.030029,\n",
       "       1107.869995, 1053.079956, 1075.140015, 1099.219971, 1089.189941,\n",
       "       1115.319946, 1136.      , 1163.849976, 1170.      , 1145.209961,\n",
       "       1149.959961, 1154.140015, 1120.01001 , 1099.      , 1092.73999 ,\n",
       "       1081.880005, 1047.030029, 1046.      , 1063.      ,  998.      ,\n",
       "       1011.630005, 1022.820007, 1013.909973,  993.409973, 1041.329956,\n",
       "       1020.      , 1016.799988, 1026.439941, 1027.98999 , 1025.040039,\n",
       "       1040.880005, 1037.      , 1051.369995, 1077.430054, 1069.400024,\n",
       "       1082.      , 1077.859985, 1052.      , 1025.52002 , 1029.51001 ,\n",
       "       1046.      , 1030.01001 , 1013.659973, 1028.099976, 1019.      ,\n",
       "       1016.900024, 1049.22998 , 1058.540039, 1058.099976, 1086.030029,\n",
       "       1093.599976, 1100.      , 1090.      , 1077.310059, 1079.890015,\n",
       "       1061.859985, 1074.060059, 1083.560059, 1065.130005, 1079.      ,\n",
       "       1079.02002 , 1064.890015, 1063.030029, 1067.560059, 1099.349976,\n",
       "       1122.329956, 1140.98999 , 1142.170044, 1131.319946, 1118.180054,\n",
       "       1118.599976, 1131.069946, 1141.119995, 1143.849976, 1148.859985,\n",
       "       1143.650024, 1158.5     , 1175.310059, 1174.849976, 1159.140015,\n",
       "       1143.599976, 1128.      , 1121.339966, 1102.089966, 1120.      ])"
      ]
     },
     "execution_count": 39,
     "metadata": {},
     "output_type": "execute_result"
    }
   ],
   "source": [
    "inputs = dataset_total[len(dataset_total) - len(dataset_test)-60:].values\n",
    "inputs"
   ]
  },
  {
   "cell_type": "code",
   "execution_count": 40,
   "metadata": {
    "_uuid": "7d74568c439acc8dda77dc4365d4b413095508e1",
    "execution": {
     "iopub.execute_input": "2023-04-16T16:04:57.796404Z",
     "iopub.status.busy": "2023-04-16T16:04:57.796106Z",
     "iopub.status.idle": "2023-04-16T16:04:57.806365Z",
     "shell.execute_reply": "2023-04-16T16:04:57.804900Z",
     "shell.execute_reply.started": "2023-04-16T16:04:57.796346Z"
    },
    "id": "6-LfWO6x1IKG"
   },
   "outputs": [],
   "source": [
    "inputs = inputs.reshape(-1,1)"
   ]
  },
  {
   "cell_type": "code",
   "execution_count": 41,
   "metadata": {
    "_uuid": "17b170e861d1353ece8aec66f700886106da4aef",
    "execution": {
     "iopub.execute_input": "2023-04-16T16:04:57.808561Z",
     "iopub.status.busy": "2023-04-16T16:04:57.808019Z",
     "iopub.status.idle": "2023-04-16T16:04:57.825529Z",
     "shell.execute_reply": "2023-04-16T16:04:57.824462Z",
     "shell.execute_reply.started": "2023-04-16T16:04:57.808499Z"
    },
    "id": "OvOqcMuB1IKG",
    "outputId": "a64f0808-90d2-4d7b-8a33-e71a8249b269"
   },
   "outputs": [
    {
     "data": {
      "text/plain": [
       "array([[ 955.48999 ],\n",
       "       [ 966.700012],\n",
       "       [ 980.      ],\n",
       "       [ 980.      ],\n",
       "       [ 973.719971],\n",
       "       [ 987.450012],\n",
       "       [ 992.      ],\n",
       "       [ 992.099976],\n",
       "       [ 990.289978],\n",
       "       [ 991.77002 ],\n",
       "       [ 986.      ],\n",
       "       [ 989.440002],\n",
       "       [ 989.52002 ],\n",
       "       [ 970.      ],\n",
       "       [ 968.369995],\n",
       "       [ 980.      ],\n",
       "       [1009.190002],\n",
       "       [1014.      ],\n",
       "       [1015.219971],\n",
       "       [1017.210022],\n",
       "       [1021.76001 ],\n",
       "       [1022.109985],\n",
       "       [1028.98999 ],\n",
       "       [1027.27002 ],\n",
       "       [1030.52002 ],\n",
       "       [1033.98999 ],\n",
       "       [1026.459961],\n",
       "       [1023.419983],\n",
       "       [1022.590027],\n",
       "       [1019.210022],\n",
       "       [1022.52002 ],\n",
       "       [1034.01001 ],\n",
       "       [1020.26001 ],\n",
       "       [1023.309998],\n",
       "       [1035.      ],\n",
       "       [1035.869995],\n",
       "       [1040.      ],\n",
       "       [1055.089966],\n",
       "       [1042.680054],\n",
       "       [1022.369995],\n",
       "       [1015.799988],\n",
       "       [1012.659973],\n",
       "       [ 995.940002],\n",
       "       [1001.5     ],\n",
       "       [1020.429993],\n",
       "       [1037.48999 ],\n",
       "       [1035.5     ],\n",
       "       [1039.630005],\n",
       "       [1046.119995],\n",
       "       [1045.      ],\n",
       "       [1054.609985],\n",
       "       [1066.079956],\n",
       "       [1075.199951],\n",
       "       [1071.780029],\n",
       "       [1064.949951],\n",
       "       [1061.109985],\n",
       "       [1058.069946],\n",
       "       [1057.390015],\n",
       "       [1051.599976],\n",
       "       [1046.719971],\n",
       "       [1048.339966],\n",
       "       [1064.310059],\n",
       "       [1088.      ],\n",
       "       [1094.      ],\n",
       "       [1102.22998 ],\n",
       "       [1109.400024],\n",
       "       [1097.099976],\n",
       "       [1106.300049],\n",
       "       [1102.410034],\n",
       "       [1132.51001 ],\n",
       "       [1126.219971],\n",
       "       [1131.410034],\n",
       "       [1131.829956],\n",
       "       [1137.48999 ],\n",
       "       [1159.849976],\n",
       "       [1177.329956],\n",
       "       [1172.530029],\n",
       "       [1175.079956],\n",
       "       [1176.47998 ],\n",
       "       [1167.829956],\n",
       "       [1170.569946],\n",
       "       [1162.609985],\n",
       "       [1122.      ],\n",
       "       [1090.599976],\n",
       "       [1027.180054],\n",
       "       [1081.540039],\n",
       "       [1055.410034],\n",
       "       [1017.25    ],\n",
       "       [1048.      ],\n",
       "       [1045.      ],\n",
       "       [1048.949951],\n",
       "       [1079.069946],\n",
       "       [1088.410034],\n",
       "       [1090.569946],\n",
       "       [1106.469971],\n",
       "       [1116.189941],\n",
       "       [1112.640015],\n",
       "       [1127.800049],\n",
       "       [1141.23999 ],\n",
       "       [1123.030029],\n",
       "       [1107.869995],\n",
       "       [1053.079956],\n",
       "       [1075.140015],\n",
       "       [1099.219971],\n",
       "       [1089.189941],\n",
       "       [1115.319946],\n",
       "       [1136.      ],\n",
       "       [1163.849976],\n",
       "       [1170.      ],\n",
       "       [1145.209961],\n",
       "       [1149.959961],\n",
       "       [1154.140015],\n",
       "       [1120.01001 ],\n",
       "       [1099.      ],\n",
       "       [1092.73999 ],\n",
       "       [1081.880005],\n",
       "       [1047.030029],\n",
       "       [1046.      ],\n",
       "       [1063.      ],\n",
       "       [ 998.      ],\n",
       "       [1011.630005],\n",
       "       [1022.820007],\n",
       "       [1013.909973],\n",
       "       [ 993.409973],\n",
       "       [1041.329956],\n",
       "       [1020.      ],\n",
       "       [1016.799988],\n",
       "       [1026.439941],\n",
       "       [1027.98999 ],\n",
       "       [1025.040039],\n",
       "       [1040.880005],\n",
       "       [1037.      ],\n",
       "       [1051.369995],\n",
       "       [1077.430054],\n",
       "       [1069.400024],\n",
       "       [1082.      ],\n",
       "       [1077.859985],\n",
       "       [1052.      ],\n",
       "       [1025.52002 ],\n",
       "       [1029.51001 ],\n",
       "       [1046.      ],\n",
       "       [1030.01001 ],\n",
       "       [1013.659973],\n",
       "       [1028.099976],\n",
       "       [1019.      ],\n",
       "       [1016.900024],\n",
       "       [1049.22998 ],\n",
       "       [1058.540039],\n",
       "       [1058.099976],\n",
       "       [1086.030029],\n",
       "       [1093.599976],\n",
       "       [1100.      ],\n",
       "       [1090.      ],\n",
       "       [1077.310059],\n",
       "       [1079.890015],\n",
       "       [1061.859985],\n",
       "       [1074.060059],\n",
       "       [1083.560059],\n",
       "       [1065.130005],\n",
       "       [1079.      ],\n",
       "       [1079.02002 ],\n",
       "       [1064.890015],\n",
       "       [1063.030029],\n",
       "       [1067.560059],\n",
       "       [1099.349976],\n",
       "       [1122.329956],\n",
       "       [1140.98999 ],\n",
       "       [1142.170044],\n",
       "       [1131.319946],\n",
       "       [1118.180054],\n",
       "       [1118.599976],\n",
       "       [1131.069946],\n",
       "       [1141.119995],\n",
       "       [1143.849976],\n",
       "       [1148.859985],\n",
       "       [1143.650024],\n",
       "       [1158.5     ],\n",
       "       [1175.310059],\n",
       "       [1174.849976],\n",
       "       [1159.140015],\n",
       "       [1143.599976],\n",
       "       [1128.      ],\n",
       "       [1121.339966],\n",
       "       [1102.089966],\n",
       "       [1120.      ]])"
      ]
     },
     "execution_count": 41,
     "metadata": {},
     "output_type": "execute_result"
    }
   ],
   "source": [
    "inputs"
   ]
  },
  {
   "cell_type": "code",
   "execution_count": 42,
   "metadata": {
    "_uuid": "b4003370fb6454d0493ef80b1b50ea34061de7bc",
    "execution": {
     "iopub.execute_input": "2023-04-16T16:04:57.828106Z",
     "iopub.status.busy": "2023-04-16T16:04:57.827410Z",
     "iopub.status.idle": "2023-04-16T16:04:57.836191Z",
     "shell.execute_reply": "2023-04-16T16:04:57.835355Z",
     "shell.execute_reply.started": "2023-04-16T16:04:57.828040Z"
    },
    "id": "-E3wpIDI1IKG",
    "outputId": "135f42c8-9f24-4233-a711-d3ac809ad31c"
   },
   "outputs": [
    {
     "data": {
      "text/plain": [
       "(185, 1)"
      ]
     },
     "execution_count": 42,
     "metadata": {},
     "output_type": "execute_result"
    }
   ],
   "source": [
    "inputs = sc.transform(inputs)\n",
    "inputs.shape"
   ]
  },
  {
   "cell_type": "code",
   "execution_count": 43,
   "metadata": {
    "_uuid": "ef076f0fdbe6ec72d85e7326c3e8aa73fcbad667",
    "execution": {
     "iopub.execute_input": "2023-04-16T16:04:57.839607Z",
     "iopub.status.busy": "2023-04-16T16:04:57.837830Z",
     "iopub.status.idle": "2023-04-16T16:04:57.848615Z",
     "shell.execute_reply": "2023-04-16T16:04:57.847476Z",
     "shell.execute_reply.started": "2023-04-16T16:04:57.839529Z"
    },
    "id": "6baxBgJ-1IKG"
   },
   "outputs": [],
   "source": [
    "x_test = []\n",
    "for i in range(60,185):\n",
    "    x_test.append(inputs[i-60:i,0])"
   ]
  },
  {
   "cell_type": "code",
   "execution_count": 44,
   "metadata": {
    "_uuid": "1fa15b6bb87ff2da8a730a6e1de20d5e5baf1571",
    "execution": {
     "iopub.execute_input": "2023-04-16T16:04:57.852569Z",
     "iopub.status.busy": "2023-04-16T16:04:57.851962Z",
     "iopub.status.idle": "2023-04-16T16:04:57.865322Z",
     "shell.execute_reply": "2023-04-16T16:04:57.863978Z",
     "shell.execute_reply.started": "2023-04-16T16:04:57.852501Z"
    },
    "id": "2W8tykWc1IKG",
    "outputId": "75e7cd9b-6bd5-4f42-e2b2-f741af7795dc"
   },
   "outputs": [
    {
     "data": {
      "text/plain": [
       "(125, 60)"
      ]
     },
     "execution_count": 44,
     "metadata": {},
     "output_type": "execute_result"
    }
   ],
   "source": [
    "x_test = np.array(x_test)\n",
    "x_test.shape"
   ]
  },
  {
   "cell_type": "code",
   "execution_count": 45,
   "metadata": {
    "_uuid": "b244d0115671f29d46d2cb290f92e6a0fe38bc1d",
    "execution": {
     "iopub.execute_input": "2023-04-16T16:04:57.867419Z",
     "iopub.status.busy": "2023-04-16T16:04:57.866843Z",
     "iopub.status.idle": "2023-04-16T16:04:57.877135Z",
     "shell.execute_reply": "2023-04-16T16:04:57.876415Z",
     "shell.execute_reply.started": "2023-04-16T16:04:57.867355Z"
    },
    "id": "uVbCU3qL1IKI",
    "outputId": "2cac0d29-dbc5-4a01-9b49-a50c38c23c51"
   },
   "outputs": [
    {
     "data": {
      "text/plain": [
       "(125, 60, 1)"
      ]
     },
     "execution_count": 45,
     "metadata": {},
     "output_type": "execute_result"
    }
   ],
   "source": [
    "x_test = np.reshape(x_test, (x_test.shape[0],x_test.shape[1],1))\n",
    "x_test.shape"
   ]
  },
  {
   "cell_type": "code",
   "execution_count": 46,
   "metadata": {
    "_uuid": "24730042bdad3a140e033a78ae9b170304f8cefb",
    "execution": {
     "iopub.execute_input": "2023-04-16T16:04:57.879478Z",
     "iopub.status.busy": "2023-04-16T16:04:57.878814Z",
     "iopub.status.idle": "2023-04-16T16:04:58.515667Z",
     "shell.execute_reply": "2023-04-16T16:04:58.514672Z",
     "shell.execute_reply.started": "2023-04-16T16:04:57.879404Z"
    },
    "id": "A_7oraCZ1IKI"
   },
   "outputs": [
    {
     "name": "stdout",
     "output_type": "stream",
     "text": [
      "4/4 [==============================] - 0s 27ms/step\n"
     ]
    }
   ],
   "source": [
    "predicted_price = regressor.predict(x_test)"
   ]
  },
  {
   "cell_type": "code",
   "execution_count": 47,
   "metadata": {
    "_uuid": "4b06462fa06e7399373d8a552cd159176fbeef33",
    "execution": {
     "iopub.execute_input": "2023-04-16T16:04:58.516895Z",
     "iopub.status.busy": "2023-04-16T16:04:58.516646Z",
     "iopub.status.idle": "2023-04-16T16:04:58.527545Z",
     "shell.execute_reply": "2023-04-16T16:04:58.526619Z",
     "shell.execute_reply.started": "2023-04-16T16:04:58.516854Z"
    },
    "id": "Pv6R25sQ1IKI",
    "outputId": "ea25caa0-5a12-42bd-b78a-d2d0e6d37260"
   },
   "outputs": [
    {
     "data": {
      "text/plain": [
       "array([[1042.0116 ],\n",
       "       [1043.9196 ],\n",
       "       [1045.334  ],\n",
       "       [1046.496  ],\n",
       "       [1047.6757 ],\n",
       "       [1049.1235 ],\n",
       "       [1051.0337 ],\n",
       "       [1053.4269 ],\n",
       "       [1056.2756 ],\n",
       "       [1059.4738 ],\n",
       "       [1063.0437 ],\n",
       "       [1066.9541 ],\n",
       "       [1071.1554 ],\n",
       "       [1075.5634 ],\n",
       "       [1080.0972 ],\n",
       "       [1084.782  ],\n",
       "       [1089.7202 ],\n",
       "       [1094.9375 ],\n",
       "       [1100.3987 ],\n",
       "       [1106.0177 ],\n",
       "       [1111.6233 ],\n",
       "       [1117.0471 ],\n",
       "       [1122.0985 ],\n",
       "       [1126.4066 ],\n",
       "       [1129.5083 ],\n",
       "       [1130.7549 ],\n",
       "       [1130.0171 ],\n",
       "       [1127.3062 ],\n",
       "       [1122.6143 ],\n",
       "       [1116.2408 ],\n",
       "       [1108.602  ],\n",
       "       [1100.184  ],\n",
       "       [1091.6224 ],\n",
       "       [1083.541  ],\n",
       "       [1076.4379 ],\n",
       "       [1070.7205 ],\n",
       "       [1066.6683 ],\n",
       "       [1064.358  ],\n",
       "       [1063.7792 ],\n",
       "       [1064.8663 ],\n",
       "       [1067.3464 ],\n",
       "       [1070.7787 ],\n",
       "       [1074.4115 ],\n",
       "       [1077.6936 ],\n",
       "       [1080.3958 ],\n",
       "       [1082.4052 ],\n",
       "       [1083.8527 ],\n",
       "       [1085.0382 ],\n",
       "       [1086.3943 ],\n",
       "       [1088.2943 ],\n",
       "       [1090.8225 ],\n",
       "       [1093.9336 ],\n",
       "       [1097.5162 ],\n",
       "       [1101.2305 ],\n",
       "       [1104.6217 ],\n",
       "       [1107.2864 ],\n",
       "       [1108.9086 ],\n",
       "       [1109.1481 ],\n",
       "       [1107.8298 ],\n",
       "       [1105.0566 ],\n",
       "       [1100.7369 ],\n",
       "       [1094.9513 ],\n",
       "       [1087.973  ],\n",
       "       [1080.1215 ],\n",
       "       [1071.6387 ],\n",
       "       [1063.0244 ],\n",
       "       [1054.6615 ],\n",
       "       [1046.829  ],\n",
       "       [1039.7697 ],\n",
       "       [1033.6558 ],\n",
       "       [1028.5604 ],\n",
       "       [1024.5654 ],\n",
       "       [1021.6699 ],\n",
       "       [1019.88245],\n",
       "       [1019.2976 ],\n",
       "       [1019.89996],\n",
       "       [1021.6456 ],\n",
       "       [1024.39   ],\n",
       "       [1027.779  ],\n",
       "       [1031.287  ],\n",
       "       [1034.468  ],\n",
       "       [1037.1006 ],\n",
       "       [1039.0146 ],\n",
       "       [1040.0487 ],\n",
       "       [1040.2129 ],\n",
       "       [1039.5608 ],\n",
       "       [1038.1896 ],\n",
       "       [1036.4084 ],\n",
       "       [1034.5896 ],\n",
       "       [1033.0436 ],\n",
       "       [1032.131  ],\n",
       "       [1032.14   ],\n",
       "       [1033.2456 ],\n",
       "       [1035.4174 ],\n",
       "       [1038.4247 ],\n",
       "       [1041.9819 ],\n",
       "       [1045.7035 ],\n",
       "       [1049.3118 ],\n",
       "       [1052.6654 ],\n",
       "       [1055.5957 ],\n",
       "       [1058.0594 ],\n",
       "       [1060.0712 ],\n",
       "       [1061.5989 ],\n",
       "       [1062.6184 ],\n",
       "       [1063.1605 ],\n",
       "       [1063.4597 ],\n",
       "       [1063.8809 ],\n",
       "       [1064.8271 ],\n",
       "       [1066.5791 ],\n",
       "       [1069.1947 ],\n",
       "       [1072.5111 ],\n",
       "       [1076.281  ],\n",
       "       [1080.3091 ],\n",
       "       [1084.4766 ],\n",
       "       [1088.6987 ],\n",
       "       [1092.9227 ],\n",
       "       [1097.0654 ],\n",
       "       [1101.1188 ],\n",
       "       [1105.165  ],\n",
       "       [1109.263  ],\n",
       "       [1113.3391 ],\n",
       "       [1117.1968 ],\n",
       "       [1120.5634 ],\n",
       "       [1123.1885 ],\n",
       "       [1124.8195 ]], dtype=float32)"
      ]
     },
     "execution_count": 47,
     "metadata": {},
     "output_type": "execute_result"
    }
   ],
   "source": [
    "predicted_price = sc.inverse_transform(predicted_price)\n",
    "predicted_price"
   ]
  },
  {
   "cell_type": "code",
   "execution_count": 48,
   "metadata": {
    "_uuid": "e8b30d578fafb1564da4448efb1f994537f6f588",
    "execution": {
     "iopub.execute_input": "2023-04-16T16:04:58.529462Z",
     "iopub.status.busy": "2023-04-16T16:04:58.528911Z",
     "iopub.status.idle": "2023-04-16T16:04:58.815632Z",
     "shell.execute_reply": "2023-04-16T16:04:58.814220Z",
     "shell.execute_reply.started": "2023-04-16T16:04:58.529397Z"
    },
    "id": "YgCHNHZh1IKI",
    "outputId": "3fd86fea-8f90-4146-8415-07f525f80dfe"
   },
   "outputs": [
    {
     "data": {
      "image/png": "[encoded data removed]",
      "text/plain": [
       "<Figure size 432x288 with 1 Axes>"
      ]
     },
     "metadata": {
      "needs_background": "light"
     },
     "output_type": "display_data"
    }
   ],
   "source": [
    "plt.plot(real_stock_price,color = 'red', label = 'Real Price')\n",
    "plt.plot(predicted_price, color = 'blue', label = 'Predicted Price')\n",
    "plt.title('Google Stock Price Prediction')\n",
    "plt.xlabel('Time')\n",
    "plt.ylabel('Google Stock Price')\n",
    "plt.legend()\n",
    "plt.show()"
   ]
  },
  {
   "cell_type": "code",
   "execution_count": null,
   "metadata": {},
   "outputs": [],
   "source": []
  }
 ],
 "metadata": {
  "colab": {
   "provenance": []
  },
  "kernelspec": {
   "display_name": "Python 3 (ipykernel)",
   "language": "python",
   "name": "python3"
  },
  "language_info": {
   "codemirror_mode": {
    "name": "ipython",
    "version": 3
   },
   "file_extension": ".py",
   "mimetype": "text/x-python",
   "name": "python",
   "nbconvert_exporter": "python",
   "pygments_lexer": "ipython3",
   "version": "3.9.12"
  }
 },
 "nbformat": 4,
 "nbformat_minor": 1
}
