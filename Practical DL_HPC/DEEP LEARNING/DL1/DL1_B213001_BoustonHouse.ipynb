{
 "cells": [
  {
   "cell_type": "code",
   "execution_count": 1,
   "id": "11c38845",
   "metadata": {
    "id": "11c38845"
   },
   "outputs": [],
   "source": [
    "# Importing libraries\n",
    "import numpy as np\n",
    "import pandas as pd\n",
    "import tensorflow as tf\n",
    "from sklearn.model_selection import train_test_split\n",
    "from sklearn.preprocessing import StandardScaler\n",
    "from sklearn.metrics import r2_score\n"
   ]
  },
  {
   "cell_type": "code",
   "execution_count": 2,
   "id": "d47d09fa",
   "metadata": {
    "id": "d47d09fa"
   },
   "outputs": [],
   "source": [
    "# Loading the Boston Housing dataset\n",
    "boston_dataset = pd.read_csv('Boston.csv')\n",
    "boston = pd.DataFrame(boston_dataset, columns=boston_dataset.columns)\n",
    "boston['MEDV'] = boston_dataset['medv']\n",
    "\n",
    "\n"
   ]
  },
  {
   "cell_type": "code",
   "execution_count": 3,
   "id": "8741c5cb",
   "metadata": {
    "id": "8741c5cb",
    "outputId": "d36126d7-24e6-4491-9f49-e0ba9ad6e8f3"
   },
   "outputs": [
    {
     "data": {
      "text/plain": [
       "(506, 16)"
      ]
     },
     "execution_count": 3,
     "metadata": {},
     "output_type": "execute_result"
    }
   ],
   "source": [
    "boston_dataset.shape"
   ]
  },
  {
   "cell_type": "code",
   "execution_count": 4,
   "id": "f4074ae2",
   "metadata": {
    "id": "f4074ae2",
    "outputId": "a2c33cdf-e556-4627-fe27-345625543d0e"
   },
   "outputs": [
    {
     "name": "stdout",
     "output_type": "stream",
     "text": [
      "   Unnamed: 0     crim    zn  indus  chas    nox     rm   age     dis  rad  \\\n",
      "0           1  0.00632  18.0   2.31     0  0.538  6.575  65.2  4.0900    1   \n",
      "1           2  0.02731   0.0   7.07     0  0.469  6.421  78.9  4.9671    2   \n",
      "2           3  0.02729   0.0   7.07     0  0.469  7.185  61.1  4.9671    2   \n",
      "3           4  0.03237   0.0   2.18     0  0.458  6.998  45.8  6.0622    3   \n",
      "4           5  0.06905   0.0   2.18     0  0.458  7.147  54.2  6.0622    3   \n",
      "\n",
      "   tax  ptratio   black  lstat  medv  MEDV  \n",
      "0  296     15.3  396.90   4.98  24.0  24.0  \n",
      "1  242     17.8  396.90   9.14  21.6  21.6  \n",
      "2  242     17.8  392.83   4.03  34.7  34.7  \n",
      "3  222     18.7  394.63   2.94  33.4  33.4  \n",
      "4  222     18.7  396.90   5.33  36.2  36.2  \n"
     ]
    }
   ],
   "source": [
    "print(boston_dataset.head(5))"
   ]
  },
  {
   "cell_type": "code",
   "execution_count": 5,
   "id": "759e4ecf",
   "metadata": {
    "id": "759e4ecf",
    "outputId": "f3d2ca30-bf28-4142-f74b-f5a8f6765321"
   },
   "outputs": [
    {
     "name": "stdout",
     "output_type": "stream",
     "text": [
      "(506, 16)\n"
     ]
    }
   ],
   "source": [
    "print(np.shape(boston_dataset))"
   ]
  },
  {
   "cell_type": "code",
   "execution_count": 6,
   "id": "9914687f",
   "metadata": {
    "id": "9914687f",
    "outputId": "d722321f-8dba-4a83-8470-50ea7f759e89"
   },
   "outputs": [
    {
     "name": "stdout",
     "output_type": "stream",
     "text": [
      "       Unnamed: 0        crim          zn       indus        chas         nox  \\\n",
      "count  506.000000  506.000000  506.000000  506.000000  506.000000  506.000000   \n",
      "mean   253.500000    3.613524   11.363636   11.136779    0.069170    0.554695   \n",
      "std    146.213884    8.601545   23.322453    6.860353    0.253994    0.115878   \n",
      "min      1.000000    0.006320    0.000000    0.460000    0.000000    0.385000   \n",
      "25%    127.250000    0.082045    0.000000    5.190000    0.000000    0.449000   \n",
      "50%    253.500000    0.256510    0.000000    9.690000    0.000000    0.538000   \n",
      "75%    379.750000    3.677083   12.500000   18.100000    0.000000    0.624000   \n",
      "max    506.000000   88.976200  100.000000   27.740000    1.000000    0.871000   \n",
      "\n",
      "               rm         age         dis         rad         tax     ptratio  \\\n",
      "count  506.000000  506.000000  506.000000  506.000000  506.000000  506.000000   \n",
      "mean     6.284634   68.574901    3.795043    9.549407  408.237154   18.455534   \n",
      "std      0.702617   28.148861    2.105710    8.707259  168.537116    2.164946   \n",
      "min      3.561000    2.900000    1.129600    1.000000  187.000000   12.600000   \n",
      "25%      5.885500   45.025000    2.100175    4.000000  279.000000   17.400000   \n",
      "50%      6.208500   77.500000    3.207450    5.000000  330.000000   19.050000   \n",
      "75%      6.623500   94.075000    5.188425   24.000000  666.000000   20.200000   \n",
      "max      8.780000  100.000000   12.126500   24.000000  711.000000   22.000000   \n",
      "\n",
      "            black       lstat        medv        MEDV  \n",
      "count  506.000000  506.000000  506.000000  506.000000  \n",
      "mean   356.674032   12.653063   22.532806   22.532806  \n",
      "std     91.294864    7.141062    9.197104    9.197104  \n",
      "min      0.320000    1.730000    5.000000    5.000000  \n",
      "25%    375.377500    6.950000   17.025000   17.025000  \n",
      "50%    391.440000   11.360000   21.200000   21.200000  \n",
      "75%    396.225000   16.955000   25.000000   25.000000  \n",
      "max    396.900000   37.970000   50.000000   50.000000  \n"
     ]
    }
   ],
   "source": [
    "print(boston_dataset.describe())"
   ]
  },
  {
   "cell_type": "code",
   "execution_count": 7,
   "id": "22985c99",
   "metadata": {
    "id": "22985c99"
   },
   "outputs": [],
   "source": [
    "# Split the data into training and testing sets\n",
    "X = boston.drop('MEDV', axis=1)\n",
    "Y = boston['MEDV']\n",
    "X_train, X_test, Y_train, Y_test = train_test_split(X, Y, test_size=0.2, random_state=1)"
   ]
  },
  {
   "cell_type": "code",
   "execution_count": 8,
   "id": "6d3c93bb",
   "metadata": {
    "id": "6d3c93bb"
   },
   "outputs": [],
   "source": [
    "\n",
    "\n",
    "# Scale the data\n",
    "scaler = StandardScaler()\n",
    "X_train_scaled = scaler.fit_transform(X_train)\n",
    "X_test_scaled = scaler.transform(X_test)"
   ]
  },
  {
   "cell_type": "code",
   "execution_count": 25,
   "id": "6d168276",
   "metadata": {
    "id": "6d168276"
   },
   "outputs": [],
   "source": [
    "# Define the model\n",
    "model = tf.keras.models.Sequential([\n",
    "  tf.keras.layers.Dense(64, activation='relu', input_shape=(X_train.shape[1],)),\n",
    "  tf.keras.layers.Dense(64, activation='relu'),\n",
    "  tf.keras.layers.Dense(1)\n",
    "])"
   ]
  },
  {
   "cell_type": "code",
   "execution_count": 26,
   "id": "67bd8062",
   "metadata": {
    "id": "67bd8062"
   },
   "outputs": [],
   "source": [
    "# Compile the model\n",
    "model.compile(optimizer='adam', loss='mse')"
   ]
  },
  {
   "cell_type": "code",
   "execution_count": 27,
   "id": "1a23efb0",
   "metadata": {
    "id": "1a23efb0",
    "outputId": "36bcdf98-e6a8-44db-dfe3-1adc44e6f35f"
   },
   "outputs": [
    {
     "name": "stdout",
     "output_type": "stream",
     "text": [
      "Epoch 1/100\n",
      "13/13 [==============================] - 1s 13ms/step - loss: 560.8013 - val_loss: 545.5715\n",
      "Epoch 2/100\n",
      "13/13 [==============================] - 0s 4ms/step - loss: 498.4428 - val_loss: 478.6798\n",
      "Epoch 3/100\n",
      "13/13 [==============================] - 0s 4ms/step - loss: 421.4762 - val_loss: 390.4594\n",
      "Epoch 4/100\n",
      "13/13 [==============================] - 0s 4ms/step - loss: 318.0855 - val_loss: 275.6785\n",
      "Epoch 5/100\n",
      "13/13 [==============================] - 0s 5ms/step - loss: 198.0845 - val_loss: 157.0129\n",
      "Epoch 6/100\n",
      "13/13 [==============================] - 0s 4ms/step - loss: 98.7583 - val_loss: 78.6754\n",
      "Epoch 7/100\n",
      "13/13 [==============================] - 0s 4ms/step - loss: 53.6428 - val_loss: 49.1560\n",
      "Epoch 8/100\n",
      "13/13 [==============================] - 0s 4ms/step - loss: 38.8469 - val_loss: 34.0803\n",
      "Epoch 9/100\n",
      "13/13 [==============================] - 0s 4ms/step - loss: 27.1368 - val_loss: 25.0147\n",
      "Epoch 10/100\n",
      "13/13 [==============================] - 0s 4ms/step - loss: 20.2883 - val_loss: 19.9635\n",
      "Epoch 11/100\n",
      "13/13 [==============================] - 0s 4ms/step - loss: 16.1751 - val_loss: 16.0145\n",
      "Epoch 12/100\n",
      "13/13 [==============================] - 0s 4ms/step - loss: 13.4620 - val_loss: 13.3890\n",
      "Epoch 13/100\n",
      "13/13 [==============================] - 0s 4ms/step - loss: 11.6277 - val_loss: 11.6462\n",
      "Epoch 14/100\n",
      "13/13 [==============================] - 0s 4ms/step - loss: 10.1255 - val_loss: 10.5258\n",
      "Epoch 15/100\n",
      "13/13 [==============================] - 0s 4ms/step - loss: 9.0357 - val_loss: 9.5508\n",
      "Epoch 16/100\n",
      "13/13 [==============================] - 0s 4ms/step - loss: 8.1718 - val_loss: 8.8012\n",
      "Epoch 17/100\n",
      "13/13 [==============================] - 0s 4ms/step - loss: 7.5306 - val_loss: 8.2992\n",
      "Epoch 18/100\n",
      "13/13 [==============================] - 0s 4ms/step - loss: 6.9042 - val_loss: 7.6961\n",
      "Epoch 19/100\n",
      "13/13 [==============================] - 0s 4ms/step - loss: 6.4472 - val_loss: 7.2555\n",
      "Epoch 20/100\n",
      "13/13 [==============================] - 0s 4ms/step - loss: 6.0695 - val_loss: 6.9128\n",
      "Epoch 21/100\n",
      "13/13 [==============================] - 0s 4ms/step - loss: 5.7134 - val_loss: 6.5720\n",
      "Epoch 22/100\n",
      "13/13 [==============================] - 0s 4ms/step - loss: 5.4822 - val_loss: 6.2465\n",
      "Epoch 23/100\n",
      "13/13 [==============================] - 0s 4ms/step - loss: 5.1918 - val_loss: 6.0797\n",
      "Epoch 24/100\n",
      "13/13 [==============================] - 0s 5ms/step - loss: 4.9756 - val_loss: 5.7649\n",
      "Epoch 25/100\n",
      "13/13 [==============================] - 0s 4ms/step - loss: 4.7540 - val_loss: 5.5698\n",
      "Epoch 26/100\n",
      "13/13 [==============================] - 0s 4ms/step - loss: 4.5958 - val_loss: 5.3965\n",
      "Epoch 27/100\n",
      "13/13 [==============================] - 0s 4ms/step - loss: 4.4641 - val_loss: 5.2730\n",
      "Epoch 28/100\n",
      "13/13 [==============================] - 0s 4ms/step - loss: 4.2987 - val_loss: 5.0950\n",
      "Epoch 29/100\n",
      "13/13 [==============================] - 0s 4ms/step - loss: 4.1708 - val_loss: 4.9568\n",
      "Epoch 30/100\n",
      "13/13 [==============================] - 0s 4ms/step - loss: 4.0835 - val_loss: 4.8124\n",
      "Epoch 31/100\n",
      "13/13 [==============================] - 0s 4ms/step - loss: 3.9406 - val_loss: 4.7161\n",
      "Epoch 32/100\n",
      "13/13 [==============================] - 0s 4ms/step - loss: 3.8070 - val_loss: 4.5504\n",
      "Epoch 33/100\n",
      "13/13 [==============================] - 0s 4ms/step - loss: 3.7103 - val_loss: 4.4812\n",
      "Epoch 34/100\n",
      "13/13 [==============================] - 0s 4ms/step - loss: 3.6089 - val_loss: 4.3773\n",
      "Epoch 35/100\n",
      "13/13 [==============================] - 0s 4ms/step - loss: 3.5127 - val_loss: 4.2926\n",
      "Epoch 36/100\n",
      "13/13 [==============================] - 0s 4ms/step - loss: 3.4321 - val_loss: 4.1738\n",
      "Epoch 37/100\n",
      "13/13 [==============================] - 0s 4ms/step - loss: 3.3521 - val_loss: 4.0777\n",
      "Epoch 38/100\n",
      "13/13 [==============================] - 0s 4ms/step - loss: 3.2736 - val_loss: 4.0761\n",
      "Epoch 39/100\n",
      "13/13 [==============================] - 0s 4ms/step - loss: 3.1754 - val_loss: 3.9367\n",
      "Epoch 40/100\n",
      "13/13 [==============================] - 0s 4ms/step - loss: 3.1181 - val_loss: 3.8266\n",
      "Epoch 41/100\n",
      "13/13 [==============================] - 0s 4ms/step - loss: 3.0108 - val_loss: 3.7905\n",
      "Epoch 42/100\n",
      "13/13 [==============================] - 0s 4ms/step - loss: 2.9627 - val_loss: 3.7167\n",
      "Epoch 43/100\n",
      "13/13 [==============================] - 0s 4ms/step - loss: 2.8831 - val_loss: 3.6294\n",
      "Epoch 44/100\n",
      "13/13 [==============================] - 0s 4ms/step - loss: 2.8320 - val_loss: 3.5733\n",
      "Epoch 45/100\n",
      "13/13 [==============================] - 0s 4ms/step - loss: 2.7659 - val_loss: 3.5038\n",
      "Epoch 46/100\n",
      "13/13 [==============================] - 0s 4ms/step - loss: 2.7260 - val_loss: 3.4542\n",
      "Epoch 47/100\n",
      "13/13 [==============================] - 0s 4ms/step - loss: 2.6413 - val_loss: 3.3900\n",
      "Epoch 48/100\n",
      "13/13 [==============================] - 0s 4ms/step - loss: 2.5752 - val_loss: 3.3587\n",
      "Epoch 49/100\n",
      "13/13 [==============================] - 0s 4ms/step - loss: 2.5187 - val_loss: 3.2530\n",
      "Epoch 50/100\n",
      "13/13 [==============================] - 0s 4ms/step - loss: 2.4613 - val_loss: 3.2142\n",
      "Epoch 51/100\n",
      "13/13 [==============================] - 0s 4ms/step - loss: 2.4216 - val_loss: 3.1764\n",
      "Epoch 52/100\n",
      "13/13 [==============================] - 0s 4ms/step - loss: 2.3796 - val_loss: 3.0679\n",
      "Epoch 53/100\n",
      "13/13 [==============================] - 0s 4ms/step - loss: 2.3349 - val_loss: 3.0375\n",
      "Epoch 54/100\n",
      "13/13 [==============================] - 0s 4ms/step - loss: 2.2738 - val_loss: 3.0466\n",
      "Epoch 55/100\n",
      "13/13 [==============================] - 0s 4ms/step - loss: 2.2327 - val_loss: 2.9480\n",
      "Epoch 56/100\n",
      "13/13 [==============================] - 0s 4ms/step - loss: 2.1846 - val_loss: 2.8972\n",
      "Epoch 57/100\n",
      "13/13 [==============================] - 0s 4ms/step - loss: 2.1149 - val_loss: 2.8724\n",
      "Epoch 58/100\n",
      "13/13 [==============================] - 0s 4ms/step - loss: 2.0684 - val_loss: 2.8217\n",
      "Epoch 59/100\n",
      "13/13 [==============================] - 0s 4ms/step - loss: 2.0312 - val_loss: 2.7475\n",
      "Epoch 60/100\n",
      "13/13 [==============================] - 0s 4ms/step - loss: 1.9875 - val_loss: 2.7216\n",
      "Epoch 61/100\n",
      "13/13 [==============================] - 0s 4ms/step - loss: 1.9437 - val_loss: 2.6982\n",
      "Epoch 62/100\n",
      "13/13 [==============================] - 0s 4ms/step - loss: 1.8899 - val_loss: 2.6105\n",
      "Epoch 63/100\n",
      "13/13 [==============================] - 0s 4ms/step - loss: 1.8673 - val_loss: 2.5947\n",
      "Epoch 64/100\n",
      "13/13 [==============================] - 0s 4ms/step - loss: 1.8214 - val_loss: 2.5075\n",
      "Epoch 65/100\n",
      "13/13 [==============================] - 0s 4ms/step - loss: 1.7821 - val_loss: 2.4911\n",
      "Epoch 66/100\n",
      "13/13 [==============================] - 0s 4ms/step - loss: 1.7433 - val_loss: 2.4564\n",
      "Epoch 67/100\n",
      "13/13 [==============================] - 0s 4ms/step - loss: 1.7144 - val_loss: 2.4001\n",
      "Epoch 68/100\n",
      "13/13 [==============================] - 0s 4ms/step - loss: 1.6791 - val_loss: 2.3655\n",
      "Epoch 69/100\n",
      "13/13 [==============================] - 0s 4ms/step - loss: 1.6420 - val_loss: 2.3162\n",
      "Epoch 70/100\n",
      "13/13 [==============================] - 0s 4ms/step - loss: 1.5852 - val_loss: 2.2889\n",
      "Epoch 71/100\n",
      "13/13 [==============================] - 0s 4ms/step - loss: 1.5452 - val_loss: 2.2501\n",
      "Epoch 72/100\n",
      "13/13 [==============================] - 0s 4ms/step - loss: 1.5255 - val_loss: 2.2174\n",
      "Epoch 73/100\n",
      "13/13 [==============================] - 0s 5ms/step - loss: 1.4783 - val_loss: 2.1770\n",
      "Epoch 74/100\n",
      "13/13 [==============================] - 0s 4ms/step - loss: 1.4500 - val_loss: 2.1329\n",
      "Epoch 75/100\n",
      "13/13 [==============================] - 0s 4ms/step - loss: 1.4262 - val_loss: 2.1077\n",
      "Epoch 76/100\n",
      "13/13 [==============================] - 0s 4ms/step - loss: 1.3771 - val_loss: 2.0484\n",
      "Epoch 77/100\n",
      "13/13 [==============================] - 0s 4ms/step - loss: 1.3355 - val_loss: 2.0180\n",
      "Epoch 78/100\n",
      "13/13 [==============================] - 0s 4ms/step - loss: 1.3110 - val_loss: 1.9729\n",
      "Epoch 79/100\n",
      "13/13 [==============================] - 0s 4ms/step - loss: 1.2991 - val_loss: 1.9527\n",
      "Epoch 80/100\n",
      "13/13 [==============================] - 0s 4ms/step - loss: 1.2654 - val_loss: 1.9103\n",
      "Epoch 81/100\n",
      "13/13 [==============================] - 0s 4ms/step - loss: 1.2202 - val_loss: 1.8554\n",
      "Epoch 82/100\n"
     ]
    },
    {
     "name": "stdout",
     "output_type": "stream",
     "text": [
      "13/13 [==============================] - 0s 4ms/step - loss: 1.1856 - val_loss: 1.8269\n",
      "Epoch 83/100\n",
      "13/13 [==============================] - 0s 4ms/step - loss: 1.1612 - val_loss: 1.7811\n",
      "Epoch 84/100\n",
      "13/13 [==============================] - 0s 4ms/step - loss: 1.1324 - val_loss: 1.7515\n",
      "Epoch 85/100\n",
      "13/13 [==============================] - 0s 4ms/step - loss: 1.1078 - val_loss: 1.7353\n",
      "Epoch 86/100\n",
      "13/13 [==============================] - 0s 4ms/step - loss: 1.0865 - val_loss: 1.6921\n",
      "Epoch 87/100\n",
      "13/13 [==============================] - 0s 4ms/step - loss: 1.0822 - val_loss: 1.6385\n",
      "Epoch 88/100\n",
      "13/13 [==============================] - 0s 4ms/step - loss: 1.0288 - val_loss: 1.6296\n",
      "Epoch 89/100\n",
      "13/13 [==============================] - 0s 4ms/step - loss: 0.9945 - val_loss: 1.5838\n",
      "Epoch 90/100\n",
      "13/13 [==============================] - 0s 4ms/step - loss: 0.9815 - val_loss: 1.5559\n",
      "Epoch 91/100\n",
      "13/13 [==============================] - 0s 4ms/step - loss: 0.9523 - val_loss: 1.5418\n",
      "Epoch 92/100\n",
      "13/13 [==============================] - 0s 4ms/step - loss: 0.9328 - val_loss: 1.5054\n",
      "Epoch 93/100\n",
      "13/13 [==============================] - 0s 4ms/step - loss: 0.9227 - val_loss: 1.4663\n",
      "Epoch 94/100\n",
      "13/13 [==============================] - 0s 4ms/step - loss: 0.8989 - val_loss: 1.4476\n",
      "Epoch 95/100\n",
      "13/13 [==============================] - 0s 4ms/step - loss: 0.8784 - val_loss: 1.4262\n",
      "Epoch 96/100\n",
      "13/13 [==============================] - 0s 4ms/step - loss: 0.8475 - val_loss: 1.3862\n",
      "Epoch 97/100\n",
      "13/13 [==============================] - 0s 4ms/step - loss: 0.8340 - val_loss: 1.3628\n",
      "Epoch 98/100\n",
      "13/13 [==============================] - 0s 4ms/step - loss: 0.8014 - val_loss: 1.3459\n",
      "Epoch 99/100\n",
      "13/13 [==============================] - 0s 4ms/step - loss: 0.7901 - val_loss: 1.3390\n",
      "Epoch 100/100\n",
      "13/13 [==============================] - 0s 4ms/step - loss: 0.7700 - val_loss: 1.2967\n"
     ]
    }
   ],
   "source": [
    "# Train the model\n",
    "history = model.fit(X_train_scaled, Y_train, validation_data=(X_test_scaled, Y_test), epochs=100)"
   ]
  },
  {
   "cell_type": "code",
   "execution_count": 28,
   "id": "ac3bad58",
   "metadata": {
    "id": "ac3bad58",
    "outputId": "4fde00c9-f548-418c-f416-0e3c5c478f04"
   },
   "outputs": [
    {
     "name": "stdout",
     "output_type": "stream",
     "text": [
      "4/4 [==============================] - 0s 2ms/step\n",
      "R^2 score: 0.9868791022022617\n"
     ]
    }
   ],
   "source": [
    "# Evaluate the model\n",
    "Y_pred = model.predict(X_test_scaled)\n",
    "r2 = r2_score(Y_test, Y_pred)\n",
    "print(\"R^2 score:\", r2)\n"
   ]
  },
  {
   "cell_type": "code",
   "execution_count": 29,
   "id": "feeca502",
   "metadata": {
    "id": "feeca502",
    "outputId": "c7446586-11c0-4dd4-d7ac-ccbe6dc63a49",
    "scrolled": true
   },
   "outputs": [
    {
     "name": "stderr",
     "output_type": "stream",
     "text": [
      "C:\\Users\\Omkar\\anaconda3\\lib\\site-packages\\seaborn\\_decorators.py:36: FutureWarning: Pass the following variables as keyword args: x, y. From version 0.12, the only valid positional argument will be `data`, and passing other arguments without an explicit keyword will result in an error or misinterpretation.\n",
      "  warnings.warn(\n",
      "C:\\Users\\Omkar\\anaconda3\\lib\\site-packages\\seaborn\\_decorators.py:36: FutureWarning: Pass the following variables as keyword args: x, y. From version 0.12, the only valid positional argument will be `data`, and passing other arguments without an explicit keyword will result in an error or misinterpretation.\n",
      "  warnings.warn(\n"
     ]
    },
    {
     "data": {
      "text/plain": [
       "<AxesSubplot:xlabel='True Values', ylabel='Predicted Values'>"
      ]
     },
     "execution_count": 29,
     "metadata": {},
     "output_type": "execute_result"
    },
    {
     "data": {
      "image/png": "[encoded data removed]",
      "text/plain": [
       "<Figure size 432x288 with 1 Axes>"
      ]
     },
     "metadata": {
      "needs_background": "light"
     },
     "output_type": "display_data"
    }
   ],
   "source": [
    "import numpy as np\n",
    "import seaborn as sns\n",
    "from matplotlib import pyplot as plt\n",
    "\n",
    "# Generate some sample data\n",
    "X = np.random.normal(0, 1, 100)\n",
    "Y = 2 * X + np.random.normal(0, 1, 100)\n",
    "\n",
    "# Fit a linear regression model\n",
    "model = np.polyfit(X, Y, 1)\n",
    "\n",
    "# Make predictions on the training data\n",
    "Y_pred = np.polyval(model, X)\n",
    "\n",
    "# Add axis labels\n",
    "plt.xlabel('True Values')\n",
    "plt.ylabel('Predicted Values')\n",
    "\n",
    "# Create a scatter plot of predicted vs true values\n",
    "sns.scatterplot(np.squeeze(Y), np.squeeze(Y_pred))\n",
    "\n",
    "# Add a diagonal line to show perfect correlation\n",
    "sns.lineplot(np.squeeze(Y), np.squeeze(Y), color='red')\n",
    "\n"
   ]
  },
  {
   "cell_type": "code",
   "execution_count": null,
   "id": "fb610184",
   "metadata": {
    "id": "fb610184"
   },
   "outputs": [],
   "source": []
  }
 ],
 "metadata": {
  "colab": {
   "provenance": []
  },
  "kernelspec": {
   "display_name": "Python 3 (ipykernel)",
   "language": "python",
   "name": "python3"
  },
  "language_info": {
   "codemirror_mode": {
    "name": "ipython",
    "version": 3
   },
   "file_extension": ".py",
   "mimetype": "text/x-python",
   "name": "python",
   "nbconvert_exporter": "python",
   "pygments_lexer": "ipython3",
   "version": "3.9.12"
  }
 },
 "nbformat": 4,
 "nbformat_minor": 5
}
